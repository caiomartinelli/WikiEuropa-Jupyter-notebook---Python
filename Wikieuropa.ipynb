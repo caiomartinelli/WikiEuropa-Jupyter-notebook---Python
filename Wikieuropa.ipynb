{
 "cells": [
  {
   "cell_type": "code",
   "execution_count": 1,
   "metadata": {},
   "outputs": [
    {
     "name": "stdout",
     "output_type": "stream",
     "text": [
      "WIKI EUROPA\n",
      "Digite o país europeu que deseja pesquisar\n",
      "Nome do país: Portugal\n",
      "Capital: Lisboa. Idioma: português\n",
      "Moeda: Euro. População: 12 milhões\n",
      "Maiores cidades: \n",
      "Lisboa\n",
      "Porto\n",
      "Évora\n",
      "Braga\n",
      "Cascais\n",
      "Sintra\n",
      "Coimbra\n"
     ]
    }
   ],
   "source": [
    "print(\"WIKI EUROPA\")\n",
    "\n",
    "print(\"Digite o país europeu que deseja pesquisar\")\n",
    "\n",
    "\n",
    "def frança():    \n",
    "    print(\"Capital: Paris. Idioma: francês\")\n",
    "    print(\"Moeda: Euro. População: 65 milhões\")\n",
    "\n",
    "def espanha():    \n",
    "    print(\"Capital: Madrid. Idioma: espanhol\")\n",
    "    print(\"Moeda: Euro. População: 45 milhões\")\n",
    "    cidadesEspanha = [\"Madrid\" , \"Barcelona\" , \"Sevilha\" , \"Málaga\", \"Bilbao\" , \"Valadolid\" , \"Cadiz\" , \"Valencia\"]\n",
    "    print(\"Maiores cidades: \")\n",
    "    for spain in cidadesEspanha:\n",
    "        print(spain)\n",
    "        \n",
    "def portugal():    \n",
    "    print(\"Capital: Lisboa. Idioma: português\")\n",
    "    print(\"Moeda: Euro. População: 12 milhões\")\n",
    "    cidadesEspanha = [\"Lisboa\" , \"Porto\" , \"Évora\" , \"Braga\", \"Cascais\" , \"Sintra\" , \"Coimbra\" ]\n",
    "    print(\"Maiores cidades: \")\n",
    "    for spain in cidadesEspanha:\n",
    "        print(spain)\n",
    "        \n",
    "    \n",
    "    \n",
    "def wiki():\n",
    "    \n",
    "    \n",
    "    pais = input(\"Nome do país: \")\n",
    "\n",
    "    if pais == \"França\" or pais==\"frança\" or pais == \"Franca\":\n",
    "        frança()\n",
    "        \n",
    "    elif pais == \"Espanha\" or pais==\"espanha\":\n",
    "        espanha()\n",
    "        \n",
    "    elif pais == \"Portugal\" or pais==\"portugal\":\n",
    "        portugal()\n",
    "                \n",
    "        \n",
    "    else:\n",
    "        print(\"Esse país não consta na Wikieuropa\")\n",
    "        \n",
    "        \n",
    "    \n",
    "wiki()\n"
   ]
  },
  {
   "cell_type": "code",
   "execution_count": null,
   "metadata": {},
   "outputs": [],
   "source": []
  }
 ],
 "metadata": {
  "kernelspec": {
   "display_name": "Python 3",
   "language": "python",
   "name": "python3"
  },
  "language_info": {
   "codemirror_mode": {
    "name": "ipython",
    "version": 3
   },
   "file_extension": ".py",
   "mimetype": "text/x-python",
   "name": "python",
   "nbconvert_exporter": "python",
   "pygments_lexer": "ipython3",
   "version": "3.6.5"
  }
 },
 "nbformat": 4,
 "nbformat_minor": 2
}
